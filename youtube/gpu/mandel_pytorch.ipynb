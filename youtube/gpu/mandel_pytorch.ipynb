{
 "cells": [
  {
   "cell_type": "markdown",
   "metadata": {
    "id": "cJqlpP2Vduym",
    "tags": []
   },
   "source": [
    "<a href=\"https://colab.research.google.com/github/jeffheaton/present/blob/master/youtube/gpu/mandel_pytorch.ipynb\" target=\"_parent\"><img src=\"https://colab.research.google.com/assets/colab-badge.svg\" alt=\"Open In Colab\"/></a>\n",
    "\n",
    "\n",
    "# Mandelbrot Plots with an NVIDIA RTX 6000 (Ada)\n",
    "\n",
    "[Jeff Heaton](https://www.youtube.com/channel/UCR1-GEpyOPzT2AO4D_eifdw)\n",
    "\n"
   ]
  },
  {
   "cell_type": "code",
   "execution_count": null,
   "metadata": {
    "colab": {
     "base_uri": "https://localhost:8080/"
    },
    "id": "UUx6RvrBj91V",
    "outputId": "6945d96b-5638-465c-cf4a-22b35d873e3c",
    "tags": []
   },
   "outputs": [],
   "source": [
    "import torch\n",
    "import numpy as np\n",
    "\n",
    "import PIL.Image\n",
    "from io import BytesIO\n",
    "from IPython.display import Image, display\n",
    "\n",
    "def render(a):\n",
    "    a_cyclic = (a * 0.3).reshape(list(a.shape) + [1]) #torch.from_numpy(a * 0.3).reshape(list(a.shape) + [1]).to(device)\n",
    "    img = torch.cat([10 + 20 * torch.cos(a_cyclic),\n",
    "                     30 + 50 * torch.sin(a_cyclic),\n",
    "                     155 - 80 * torch.cos(a_cyclic)], 2)\n",
    "    img[a == a.max()] = 0\n",
    "    a = img\n",
    "    a = torch.clamp(a, 0, 255)\n",
    "    a = a.byte().cpu().numpy()\n",
    "    f = BytesIO()\n",
    "    return PIL.Image.fromarray(a)\n",
    "\n",
    "# Loop through the render cycles for Mandlebrot plot.\n",
    "def mandelbrot_helper(grid_c, current_values, counts, cycles):\n",
    "    for i in range(cycles):\n",
    "        # The Mandlebrot formula\n",
    "        temp = current_values * current_values + grid_c\n",
    "        not_diverged = torch.abs(temp) < 4\n",
    "        current_values.copy_(temp)\n",
    "        counts.add_(not_diverged.double())\n",
    "\n",
    "# Render a Mandlebrot plot at the specified location, zoom, and render cycles.\n",
    "def mandelbrot(render_size, center, zoom, cycles):\n",
    "    f = zoom / render_size[0]\n",
    "\n",
    "    real_start = center[1] - (render_size[1] / 2) * f\n",
    "    real_end = real_start + render_size[1] * f\n",
    "    imag_start = center[0] - (render_size[0] / 2) * f\n",
    "    imag_end = imag_start + render_size[0] * f\n",
    "\n",
    "    real_range = torch.arange(real_start, real_end, f, dtype=torch.float64, device=device)\n",
    "    imag_range = torch.arange(imag_start, imag_end, f, dtype=torch.float64, device=device)\n",
    "    real, imag = torch.meshgrid(real_range, imag_range, indexing=\"ij\")\n",
    "    grid_c = torch.complex(imag, real)\n",
    "    current_values = torch.clone(grid_c)\n",
    "    counts = torch.zeros_like(grid_c, dtype=torch.float64, device=device)\n",
    "\n",
    "    mandelbrot_helper(grid_c, current_values, counts, cycles)\n",
    "    return counts #counts.cpu().numpy()\n",
    "\n",
    "# Make use of a GPU or MPS (Apple) if one is available.\n",
    "device = \"mps\" if getattr(torch, 'has_mps', False) \\\n",
    "    else \"cuda\" if torch.cuda.is_available() else \"cpu\"\n",
    "print(f\"Using device: {device}\")"
   ]
  },
  {
   "cell_type": "markdown",
   "metadata": {
    "id": "F6w3xsjl9zj_"
   },
   "source": [
    "# Plot a Single Image"
   ]
  },
  {
   "cell_type": "code",
   "execution_count": null,
   "metadata": {
    "colab": {
     "base_uri": "https://localhost:8080/",
     "height": 776
    },
    "id": "fXLg-4gX498H",
    "outputId": "83774461-8c12-4235-8d75-56e58eb1a9ff"
   },
   "outputs": [],
   "source": [
    "%%time\n",
    "\n",
    "counts = mandelbrot(\n",
    "    #render_size=(30720,17280), # 32K\n",
    "    #render_size=(15360,8640), # 16K\n",
    "    #render_size=(7680,4320), # 8K\n",
    "    #render_size=(3840,2160), # 4K\n",
    "    render_size=(1920,1080), # HD\n",
    "    center=(-0.5,0),\n",
    "    zoom=4,\n",
    "    cycles=200\n",
    ")  \n",
    "img = render(counts)\n",
    "img.save(\"render.png\")\n",
    "print(img.size)\n",
    "img"
   ]
  },
  {
   "cell_type": "markdown",
   "metadata": {},
   "source": [
    "# Find Zoom Parameters\n",
    "\n",
    "To perform a mandlebrot Zoom you must find an interesting spot to zoom in on. To do this start with a zoom of 1, and center of 0,0. Increase your zoom and continue to modify the center so that something interesting stays in frame as you increase the zoom."
   ]
  },
  {
   "cell_type": "code",
   "execution_count": null,
   "metadata": {},
   "outputs": [],
   "source": [
    "zoom_amount = 3000\n",
    "center = (-0.701000102001,0.35)\n",
    "\n",
    "zoom = 0.99 ** zoom_amount\n",
    "counts = mandelbrot(\n",
    "    #render_size=(30720,17280), # 32K\n",
    "    #render_size=(15360,8640), # 16K\n",
    "    #render_size=(7680,4320), # 8K\n",
    "    #render_size=(3840,2160), # 4K\n",
    "    render_size=(1920,1080), # HD\n",
    "    center=center,\n",
    "    zoom=zoom,\n",
    "    cycles=300\n",
    ")  \n",
    "img = render(counts)\n",
    "print(img.size)\n",
    "img"
   ]
  },
  {
   "cell_type": "markdown",
   "metadata": {
    "id": "buOe36cg951B"
   },
   "source": [
    "# Render a Zoom Video"
   ]
  },
  {
   "cell_type": "code",
   "execution_count": null,
   "metadata": {
    "id": "Ytsl7Xwmb-me"
   },
   "outputs": [],
   "source": [
    "import locale\n",
    "locale.getpreferredencoding = lambda: \"UTF-8\"\n",
    "\n",
    "!mkdir tmp"
   ]
  },
  {
   "cell_type": "code",
   "execution_count": null,
   "metadata": {
    "colab": {
     "base_uri": "https://localhost:8080/"
    },
    "id": "KEKptpXi1eu6",
    "outputId": "5be2d960-4e83-4e34-9827-bc4c150f80d1"
   },
   "outputs": [],
   "source": [
    "from tqdm import tqdm\n",
    "\n",
    "zoom = 1.0\n",
    "for i in tqdm(range(3000)):\n",
    "  counts = mandelbrot(\n",
    "      (3840,2160),\n",
    "      #(640,480),\n",
    "      (-0.701000102001,0.35),\n",
    "      zoom,\n",
    "      2000\n",
    "  )\n",
    "  zoom *=0.99\n",
    "  img = render(counts)\n",
    "  img.save(f\"./tmp/img-{i}.png\")\n",
    "\n",
    "print(zoom)"
   ]
  },
  {
   "cell_type": "markdown",
   "metadata": {
    "id": "u4JL40lj-D9v"
   },
   "source": [
    "Package the frames to a MP4."
   ]
  },
  {
   "cell_type": "code",
   "execution_count": null,
   "metadata": {
    "colab": {
     "base_uri": "https://localhost:8080/"
    },
    "id": "BRGkD3fCPXLA",
    "outputId": "052f89f7-acd0-4bfc-856d-3df638db21b1"
   },
   "outputs": [],
   "source": [
    "!ffmpeg -r 30 -i ./tmp/img-%d.png -vcodec mpeg4 -b 5000k -y movie.mp4"
   ]
  },
  {
   "cell_type": "markdown",
   "metadata": {
    "id": "bcWo0giA-As5"
   },
   "source": [
    "Download the movie, if you are using colab."
   ]
  },
  {
   "cell_type": "code",
   "execution_count": null,
   "metadata": {
    "colab": {
     "base_uri": "https://localhost:8080/",
     "height": 34
    },
    "id": "k-Ik_LyPpv1J",
    "outputId": "b54b6de6-6071-4a3f-e507-57541db52d7f"
   },
   "outputs": [],
   "source": [
    "from google.colab import files\n",
    "files.download('movie.mp4') \n",
    "#files.download('/content/tmp/img-300.png')\n",
    "\n",
    "# -vcodec libx264"
   ]
  },
  {
   "cell_type": "code",
   "execution_count": null,
   "metadata": {},
   "outputs": [],
   "source": []
  }
 ],
 "metadata": {
  "accelerator": "GPU",
  "colab": {
   "provenance": []
  },
  "kernelspec": {
   "display_name": "Python 3 (ipykernel)",
   "language": "python",
   "name": "python3"
  },
  "language_info": {
   "codemirror_mode": {
    "name": "ipython",
    "version": 3
   },
   "file_extension": ".py",
   "mimetype": "text/x-python",
   "name": "python",
   "nbconvert_exporter": "python",
   "pygments_lexer": "ipython3",
   "version": "3.10.8"
  }
 },
 "nbformat": 4,
 "nbformat_minor": 4
}
