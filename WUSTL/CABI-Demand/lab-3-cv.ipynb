{
 "cells": [
  {
   "cell_type": "markdown",
   "metadata": {},
   "source": [
    "<a href=\"https://colab.research.google.com/github/jeffheaton/present/blob/master/WUSTL/CABI-Demand/lab-3-cv.ipynb\" target=\"_parent\"><img src=\"https://colab.research.google.com/assets/colab-badge.svg\" alt=\"Open In Colab\"/></a>\n",
    "\n",
    "# Washington University [Olin School of Business](https://olin.wustl.edu/EN-US/Pages/default.aspx)\n",
    "[Center for Analytics and Business Insights](https://olin.wustl.edu/EN-US/Faculty-Research/research-centers/center-analytics-business-insights/Pages/default.aspx) (CABI)  \n",
    "[Deep Learning for Demand Forecasting](https://github.com/jeffheaton/present/tree/master/WUSTL/CABI-Demand)  \n",
    "Copyright 2022 by [Jeff Heaton](https://www.youtube.com/c/HeatonResearch), Released under [CC BY-NC-SA 4.0](https://creativecommons.org/licenses/by-nc-sa/4.0/)  \n",
    "\n",
    "\n",
    "# Lab 3: Computer Vision\n",
    "\n",
    "Attempt to add one or more of the following features from the data.\n",
    "\n",
    "* Count people on beach and sidewalks separately.\n",
    "\n",
    "You can use the following starter code. \n",
    "Connect GDrive, to write out any results."
   ]
  },
  {
   "cell_type": "code",
   "execution_count": null,
   "metadata": {
    "colab": {
     "base_uri": "https://localhost:8080/"
    },
    "id": "EJPIlxl8hAg5",
    "outputId": "07e9c58c-c35c-405f-92d1-beeb44875c71"
   },
   "outputs": [],
   "source": [
    "try:\n",
    "    from google.colab import drive\n",
    "    drive.mount('/content/drive', force_remount=True)\n",
    "    COLAB = True\n",
    "    print(\"Note: using Google CoLab\")\n",
    "except:\n",
    "    print(\"Note: not using Google CoLab\")\n",
    "    COLAB = False"
   ]
  },
  {
   "cell_type": "markdown",
   "metadata": {
    "id": "yN7476ZB3MTi"
   },
   "source": [
    "Load the three data files."
   ]
  },
  {
   "cell_type": "code",
   "execution_count": null,
   "metadata": {
    "id": "5WEfyt5ShSeA"
   },
   "outputs": [],
   "source": [
    "import pandas as pd\n",
    "import os\n",
    "\n",
    "PATH = \"/content/drive/MyDrive/projects/demand/\"\n",
    "\n",
    "df_sales = pd.read_csv(\"https://data.heatonresearch.com/wustl/CABI/demand-forecast/sales_train.csv\", parse_dates=['date'])\n",
    "df_items = pd.read_csv(\"https://data.heatonresearch.com/wustl/CABI/demand-forecast/items.csv\")\n",
    "df_resturant = pd.read_csv(\"https://data.heatonresearch.com/wustl/CABI/demand-forecast/resturants.csv\")"
   ]
  },
  {
   "cell_type": "markdown",
   "metadata": {
    "id": "15pndRemtFvT"
   },
   "source": [
    "### Prerequisite from Example"
   ]
  },
  {
   "cell_type": "code",
   "execution_count": null,
   "metadata": {
    "colab": {
     "base_uri": "https://localhost:8080/"
    },
    "id": "6JeXn4qktNX_",
    "outputId": "be844b58-d5a6-4aec-d90b-795aee4d6a48"
   },
   "outputs": [],
   "source": [
    "!wget https://data.heatonresearch.com/wustl/CABI/demand-forecast/street-20221003.zip /content/\n",
    "!unzip /content/street-20221003.zip > /dev/null\n",
    "\n",
    "import sys\n",
    "\n",
    "!git clone https://github.com/ultralytics/yolov5 --tag 6.2  # clone\n",
    "!mv /content/6.2 /content/yolov5\n",
    "%pip install -qr /content/yolov5/requirements.txt  # install\n",
    "sys.path.insert(0,'/content/yolov5')\n",
    "\n",
    "import torch\n",
    "import utils\n",
    "display = utils.notebook_init()  # checks\n",
    "\n",
    "!rm -R /content/yolov5/runs/detect/*\n",
    "!mkdir /content/images\n",
    "!cp /content/street/2020_01_01.jpg /content/images\n",
    "\n",
    "from IPython.display import Image\n",
    "\n",
    "!python /content/yolov5/detect.py --weights yolov5s.pt --img 1024 \\\n",
    "  --conf 0.25 --source /content/images/\n",
    "\n",
    "URL = '/content/yolov5/runs/detect/exp/2020_01_01.jpg'\n",
    "Image(filename=URL, width=300)"
   ]
  },
  {
   "cell_type": "markdown",
   "metadata": {
    "id": "ceCx1t7bu800"
   },
   "source": [
    "### Demonstrate YOLOv5\n",
    "\n"
   ]
  },
  {
   "cell_type": "code",
   "execution_count": null,
   "metadata": {
    "colab": {
     "base_uri": "https://localhost:8080/",
     "height": 773
    },
    "id": "R1rB0mQyw2pW",
    "outputId": "ce7e26f6-0fb6-4509-9a24-f3a199d3e6c6"
   },
   "outputs": [],
   "source": [
    "import torch\n",
    "\n",
    "# Model\n",
    "yolo_model = torch.hub.load('ultralytics/yolov5', 'yolov5s')  # or yolov5n - yolov5x6, custom\n",
    "\n",
    "# Images\n",
    "img = '/content/street/2020_01_01.jpg'  # or file, Path, PIL, OpenCV, numpy, list\n",
    "\n",
    "# Inference\n",
    "results = yolo_model(img)\n",
    "\n",
    "# Results\n",
    "df = results.pandas().xyxy[0]\n",
    "df"
   ]
  },
  {
   "cell_type": "markdown",
   "metadata": {
    "id": "dcr13zWDuZFO"
   },
   "source": [
    "### Extract Data from Street Images"
   ]
  },
  {
   "cell_type": "code",
   "execution_count": null,
   "metadata": {
    "colab": {
     "base_uri": "https://localhost:8080/",
     "height": 441
    },
    "id": "oLsgzfKDucxS",
    "outputId": "4a5c0dc8-440f-46dd-9929-95b141bf47a2"
   },
   "outputs": [],
   "source": [
    "import os\n",
    "from os import walk\n",
    "import datetime\n",
    "import tqdm\n",
    "import pandas as pd\n",
    "\n",
    "STREET_PATH = \"/content/street/\"\n",
    "å\n",
    "filenames = next(walk(STREET_PATH), (None, None, []))[2]  \n",
    "\n",
    "list_date = []\n",
    "list_people = []\n",
    "\n",
    "for file in tqdm.tqdm(filenames):\n",
    "  filename = os.path.join(STREET_PATH, file)\n",
    "  results = yolo_model(filename)\n",
    "  df = results.pandas().xyxy[0]\n",
    "  people = len(df[df.name=='person'])\n",
    "  dt = datetime.datetime.strptime(file[:10], '%Y_%m_%d')\n",
    "  list_date.append(dt)\n",
    "  list_people.append(people)\n",
    "\n",
    "df_street_view = pd.DataFrame({'date':list_date,'people':list_people})\n",
    "df_street_view"
   ]
  }
 ],
 "metadata": {
  "accelerator": "GPU",
  "colab": {
   "collapsed_sections": [],
   "provenance": []
  },
  "kernelspec": {
   "display_name": "Python 3 (ipykernel)",
   "language": "python",
   "name": "python3"
  },
  "language_info": {
   "codemirror_mode": {
    "name": "ipython",
    "version": 3
   },
   "file_extension": ".py",
   "mimetype": "text/x-python",
   "name": "python",
   "nbconvert_exporter": "python",
   "pygments_lexer": "ipython3",
   "version": "3.9.12"
  }
 },
 "nbformat": 4,
 "nbformat_minor": 1
}
