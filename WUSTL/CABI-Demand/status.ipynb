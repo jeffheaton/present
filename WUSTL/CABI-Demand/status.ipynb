{
  "nbformat": 4,
  "nbformat_minor": 0,
  "metadata": {
    "colab": {
      "provenance": [],
      "collapsed_sections": []
    },
    "kernelspec": {
      "name": "python3",
      "display_name": "Python 3"
    },
    "language_info": {
      "name": "python"
    }
  },
  "cells": [
    {
      "cell_type": "markdown",
      "source": [
        "<a href=\"https://colab.research.google.com/github/jeffheaton/present/blob/master/WUSTL/CABI-Demand/status.ipynb\" target=\"_parent\"><img src=\"https://colab.research.google.com/assets/colab-badge.svg\" alt=\"Open In Colab\"/></a>\n",
        "\n",
        "# Washington University [Olin School of Business](https://olin.wustl.edu/EN-US/Pages/default.aspx)\n",
        "[Center for Analytics and Business Insights](https://olin.wustl.edu/EN-US/Faculty-Research/research-centers/center-analytics-business-insights/Pages/default.aspx) (CABI)  \n",
        "[Deep Learning for Demand Forecasting](https://github.com/jeffheaton/present/tree/master/WUSTL/CABI-Demand)  \n",
        "Copyright 2022 by [Jeff Heaton](https://www.youtube.com/c/HeatonResearch), Released under [CC BY-NC-SA 4.0](https://creativecommons.org/licenses/by-nc-sa/4.0/)  \n",
        "\n",
        "\n",
        "## GPU Stats\n",
        "\n",
        "Run this code to see what GPU (if any) you have and versions of Python/TensorFlow."
      ],
      "metadata": {
        "id": "X80IFiiIH1IG"
      }
    },
    {
      "cell_type": "code",
      "source": [
        "# What version of Python do you have?\n",
        "import sys\n",
        "\n",
        "import tensorflow.keras\n",
        "import pandas as pd\n",
        "import sklearn as sk\n",
        "import tensorflow as tf\n",
        "\n",
        "check_gpu = len(tf.config.list_physical_devices('GPU'))>0\n",
        "\n",
        "print(f\"Tensor Flow Version: {tf.__version__}\")\n",
        "print(f\"Keras Version: {tensorflow.keras.__version__}\")\n",
        "print()\n",
        "print(f\"Python {sys.version}\")\n",
        "print(f\"Pandas {pd.__version__}\")\n",
        "print(f\"Scikit-Learn {sk.__version__}\")\n",
        "print(\"GPU is\", \"available\" if check_gpu \\\n",
        "      else \"NOT AVAILABLE\")"
      ],
      "metadata": {
        "colab": {
          "base_uri": "https://localhost:8080/"
        },
        "id": "I0jxahp-IT0S",
        "outputId": "c4f59eea-6f31-473d-bf5a-164c90c18a35"
      },
      "execution_count": 1,
      "outputs": [
        {
          "output_type": "stream",
          "name": "stdout",
          "text": [
            "Tensor Flow Version: 2.8.2\n",
            "Keras Version: 2.8.0\n",
            "\n",
            "Python 3.7.14 (default, Sep  8 2022, 00:06:44) \n",
            "[GCC 7.5.0]\n",
            "Pandas 1.3.5\n",
            "Scikit-Learn 1.0.2\n",
            "GPU is available\n"
          ]
        }
      ]
    },
    {
      "cell_type": "markdown",
      "source": [
        "What type of GPU is installed?"
      ],
      "metadata": {
        "id": "s-arqXRpIgYM"
      }
    },
    {
      "cell_type": "code",
      "execution_count": 2,
      "metadata": {
        "colab": {
          "base_uri": "https://localhost:8080/"
        },
        "id": "g_cvNnfpEqWC",
        "outputId": "b7a973c9-5612-4efb-ed97-4a24cece3560"
      },
      "outputs": [
        {
          "output_type": "stream",
          "name": "stdout",
          "text": [
            " /device:CPU:0 || Unnamed device || CPU || 256.0 MiB\n",
            " /device:GPU:0 ||  Tesla T4 || GPU || 13.5 GiB\n"
          ]
        }
      ],
      "source": [
        "from tensorflow.python.client import device_lib\n",
        "devices = device_lib.list_local_devices()\n",
        "\n",
        "def sizeof_fmt(num, suffix='B'):\n",
        "    for unit in ['','Ki','Mi','Gi','Ti','Pi','Ei','Zi']:\n",
        "        if abs(num) < 1024.0:\n",
        "            return \"%3.1f %s%s\" % (num, unit, suffix)\n",
        "        num /= 1024.0\n",
        "    return \"%.1f%s%s\" % (num, 'Yi', suffix)\n",
        "\n",
        "for d in devices:\n",
        "    t = d.device_type\n",
        "    name = d.physical_device_desc\n",
        "    l = [item.split(':',1) for item in name.split(\", \")]\n",
        "    name_attr = dict([x for x in l if len(x)==2])\n",
        "    dev = name_attr.get('name', 'Unnamed device')\n",
        "    print(f\" {d.name} || {dev} || {t} || {sizeof_fmt(d.memory_limit)}\")"
      ]
    }
  ]
}