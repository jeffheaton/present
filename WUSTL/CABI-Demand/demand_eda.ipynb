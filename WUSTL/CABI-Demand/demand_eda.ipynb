{
 "cells": [
  {
   "cell_type": "markdown",
   "metadata": {},
   "source": [
    "<a href=\"https://colab.research.google.com/github/jeffheaton/present/blob/master/WUSTL/CABI-Demand/demand_eda.ipynb\" target=\"_parent\"><img src=\"https://colab.research.google.com/assets/colab-badge.svg\" alt=\"Open In Colab\"/></a>\n",
    "\n",
    "# Washington University [Olin School of Business](https://olin.wustl.edu/EN-US/Pages/default.aspx)\n",
    "[Center for Analytics and Business Insights](https://olin.wustl.edu/EN-US/Faculty-Research/research-centers/center-analytics-business-insights/Pages/default.aspx) (CABI)  \n",
    "[Deep Learning for Demand Forecasting](https://github.com/jeffheaton/present/tree/master/WUSTL/CABI-Demand)  \n",
    "Copyright 2022 by [Jeff Heaton](https://www.youtube.com/c/HeatonResearch), Released under [CC BY-NC-SA 4.0](https://creativecommons.org/licenses/by-nc-sa/4.0/) \n",
    "\n",
    "# Exploratory Data Analysis (EDA)"
   ]
  },
  {
   "cell_type": "code",
   "execution_count": null,
   "metadata": {
    "colab": {
     "base_uri": "https://localhost:8080/"
    },
    "id": "V4Lir9fmczTk",
    "outputId": "77301973-f66e-4256-a608-39b59001da46"
   },
   "outputs": [],
   "source": [
    "try:\n",
    "    from google.colab import drive\n",
    "    drive.mount('/content/drive', force_remount=True)\n",
    "    COLAB = True\n",
    "    print(\"Note: using Google CoLab\")\n",
    "except:\n",
    "    print(\"Note: not using Google CoLab\")\n",
    "    COLAB = False"
   ]
  },
  {
   "cell_type": "code",
   "execution_count": null,
   "metadata": {
    "id": "Sk1I6ObhdB1j"
   },
   "outputs": [],
   "source": [
    "import pandas as pd\n",
    "import os\n",
    "\n",
    "PATH = \"/content/drive/MyDrive/projects/demand/\"\n",
    "\n",
    "df_sales = pd.read_csv(os.path.join(PATH,\"sales_train.csv\"))\n",
    "df_items = pd.read_csv(os.path.join(PATH,\"items.csv\"))\n",
    "df_resturant = pd.read_csv(os.path.join(PATH,\"resturants.csv\"))\n",
    "\n",
    "df_sales.date = pd.to_datetime(df_sales.date, errors='coerce') \n",
    "df_sales['weekday'] = df_sales.date.dt.day_name()\n",
    "\n",
    "start_date = df_sales.date.min()\n",
    "df_sales['week'] = (((df_sales.date - start_date).dt.days)/7).astype(int)"
   ]
  },
  {
   "cell_type": "code",
   "execution_count": null,
   "metadata": {
    "colab": {
     "base_uri": "https://localhost:8080/",
     "height": 291
    },
    "id": "W8lDyC6An9jB",
    "outputId": "1ca76b89-36a8-4fff-f87f-f09637fbd9f9"
   },
   "outputs": [],
   "source": [
    "import pandas as pd\n",
    "\n",
    "#df_sales[['date','item_count']].groupby(['date']).sum().plot(kind='bar',figsize=(16,2))\n",
    "df_plot = df_sales[['date','item_count']].groupby(['date']).sum().reset_index()\n",
    "ax=df_plot.plot(x=\"date\",figsize=(20,4),kind=\"line\")"
   ]
  },
  {
   "cell_type": "code",
   "execution_count": null,
   "metadata": {
    "colab": {
     "base_uri": "https://localhost:8080/",
     "height": 470
    },
    "id": "qEYMCJ1_WaHS",
    "outputId": "e676f6b4-43f3-4410-b808-3666a77ff9d9"
   },
   "outputs": [],
   "source": [
    "day_order = [\"Monday\", \"Tuesday\", \"Wednesday\", \"Thursday\", \"Friday\", \"Saturday\", \"Sunday\"]\n",
    "\n",
    "df_plot = df_sales[['weekday','item_count']].groupby(['weekday']).sum().reset_index()\n",
    "print(df_plot)\n",
    "ax = df_plot.set_index(\"weekday\").loc[day_order].plot(kind=\"bar\", legend=False)"
   ]
  },
  {
   "cell_type": "code",
   "execution_count": null,
   "metadata": {
    "colab": {
     "base_uri": "https://localhost:8080/",
     "height": 289
    },
    "id": "qA5jM2R8BiIJ",
    "outputId": "21326bc9-046f-4a41-c714-d09192a3aa1e"
   },
   "outputs": [],
   "source": [
    "df_sales_single_year = df_sales[df_sales['date'].dt.year == 2020]\n",
    "df_plot = df_sales_single_year[['date','item_count']].groupby(['date']).sum().reset_index()     #.groupby([['date','item_id']]) #.sum().reset_index()\n",
    "ax = df_plot.plot(x=\"date\",figsize=(200,40),kind=\"bar\",width=1.0)"
   ]
  },
  {
   "cell_type": "code",
   "execution_count": null,
   "metadata": {
    "id": "OFAwTaNdehwC"
   },
   "outputs": [],
   "source": [
    "#from google.colab import files\n",
    "#files.download(\"test.csv\")"
   ]
  },
  {
   "cell_type": "markdown",
   "metadata": {
    "id": "hZYl634ApEvo"
   },
   "source": [
    "# Most Popular Items"
   ]
  },
  {
   "cell_type": "code",
   "execution_count": null,
   "metadata": {
    "colab": {
     "base_uri": "https://localhost:8080/"
    },
    "id": "HkeC514zm2IB",
    "outputId": "8b4a1fb0-77d6-4d4a-fad0-9a2d83f252d6"
   },
   "outputs": [],
   "source": [
    "# df_sales[['date','item_count']].groupby(['date']).sum().reset_index()\n",
    "df_sales.item_id.unique()"
   ]
  },
  {
   "cell_type": "code",
   "execution_count": null,
   "metadata": {
    "colab": {
     "base_uri": "https://localhost:8080/"
    },
    "id": "O5byR-adnE1i",
    "outputId": "5fc0a8a5-56f4-4f2f-af47-af13058482cc"
   },
   "outputs": [],
   "source": [
    "df2 = df_sales[['item_id','item_count']].groupby(['item_id']).sum().reset_index().sort_values('item_count',ascending=False)\n",
    "df_items2 = df_items[['id','name']]\n",
    "df_items2.columns = ['item_id','name']\n",
    "df_popular = df2.merge(df_items2)\n",
    "print(df_popular.to_string())"
   ]
  },
  {
   "cell_type": "markdown",
   "metadata": {
    "id": "Si3g1dRM21vP"
   },
   "source": [
    "# Individual Item Plots"
   ]
  },
  {
   "cell_type": "code",
   "execution_count": null,
   "metadata": {
    "colab": {
     "base_uri": "https://localhost:8080/",
     "height": 307
    },
    "id": "m4EgAkc425DY",
    "outputId": "de4b105d-07f9-469d-d809-006c6824bad9"
   },
   "outputs": [],
   "source": [
    "df_plot = df_sales_single_year[['date','item_id','item_count']].groupby(['date','item_id']).sum().reset_index()\n",
    "df_plot = df_plot.pivot(index=['date'],columns='item_id',values='item_count').reset_index()\n",
    "df_plot.columns.name = None\n",
    "df_plot.plot(x=\"date\",figsize=(200,40),kind=\"bar\",width=1.0, stacked=True)"
   ]
  },
  {
   "cell_type": "code",
   "execution_count": null,
   "metadata": {
    "colab": {
     "base_uri": "https://localhost:8080/",
     "height": 555
    },
    "id": "bIjcWMYl6xsP",
    "outputId": "397bb804-e74a-4e12-ec5c-ece9c6a0f244"
   },
   "outputs": [],
   "source": [
    "df_plot = df_sales_single_year[['week','item_id','item_count']].groupby(['week','item_id']).sum().reset_index()\n",
    "df_plot = df_plot.pivot(index=['week'],columns='item_id',values='item_count').reset_index()\n",
    "df_plot.columns.name = None\n",
    "df_plot.plot(x=\"week\",figsize=(100,40),kind=\"bar\",width=1.0, stacked=True)"
   ]
  },
  {
   "cell_type": "code",
   "execution_count": null,
   "metadata": {
    "colab": {
     "base_uri": "https://localhost:8080/",
     "height": 327
    },
    "id": "FCZUUeSigpTC",
    "outputId": "6af13082-c278-4c8e-9e83-06b4425fedbf"
   },
   "outputs": [],
   "source": [
    "day_order = [\"Monday\", \"Tuesday\", \"Wednesday\", \"Thursday\", \"Friday\", \"Saturday\", \"Sunday\"]\n",
    "\n",
    "df_plot = df_sales_single_year[['weekday','item_id','item_count']].groupby(['weekday','item_id']).sum().reset_index()\n",
    "df_plot = df_plot.pivot(index=['weekday'],columns='item_id',values='item_count').reset_index()\n",
    "df_plot.columns.name = None\n",
    "ax = df_plot.set_index('weekday').loc[day_order].plot(kind=\"bar\",width=1.0, stacked=True, legend=False)"
   ]
  },
  {
   "cell_type": "markdown",
   "metadata": {
    "id": "lKCVCfSapSEE"
   },
   "source": [
    "# Scratch Area\n",
    "\n",
    "https://stackoverflow.com/questions/69724325/python-stacked-bar-plot-based-on-values-from-multiple-columns-within-the-same-d"
   ]
  },
  {
   "cell_type": "code",
   "execution_count": null,
   "metadata": {
    "id": "VXHbeFFvd83c"
   },
   "outputs": [],
   "source": []
  },
  {
   "cell_type": "code",
   "execution_count": null,
   "metadata": {
    "id": "DHqBi8tffkA3"
   },
   "outputs": [],
   "source": []
  },
  {
   "cell_type": "code",
   "execution_count": null,
   "metadata": {
    "colab": {
     "base_uri": "https://localhost:8080/",
     "height": 298
    },
    "id": "9BFmxXVBeldi",
    "outputId": "093fc9b7-85bc-4b62-c50d-d09983bcdf6e"
   },
   "outputs": [],
   "source": [
    "df_plot"
   ]
  }
 ],
 "metadata": {
  "colab": {
   "collapsed_sections": [],
   "provenance": []
  },
  "kernelspec": {
   "display_name": "Python 3 (ipykernel)",
   "language": "python",
   "name": "python3"
  },
  "language_info": {
   "codemirror_mode": {
    "name": "ipython",
    "version": 3
   },
   "file_extension": ".py",
   "mimetype": "text/x-python",
   "name": "python",
   "nbconvert_exporter": "python",
   "pygments_lexer": "ipython3",
   "version": "3.9.12"
  }
 },
 "nbformat": 4,
 "nbformat_minor": 1
}
